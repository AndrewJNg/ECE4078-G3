{
 "cells": [
  {
   "cell_type": "code",
   "execution_count": 1,
   "id": "2c0233b9-8bf6-4e75-a503-e735b4f4ade9",
   "metadata": {},
   "outputs": [],
   "source": [
    "import os\n",
    "from PIL import Image\n",
    "\n",
    "import numpy as np\n",
    "import matplotlib.pyplot as plt\n",
    "import matplotlib.image as mpimg\n",
    "# import time for timekeeping\n",
    "import time"
   ]
  },
  {
   "cell_type": "code",
   "execution_count": 6,
   "id": "07855803-d8f7-4918-9584-f00d7310afd3",
   "metadata": {},
   "outputs": [
    {
     "name": "stdout",
     "output_type": "stream",
     "text": [
      "Saved ./3_label_pictures/image_1-removebg_label.png\n",
      "Saved ./3_label_pictures/image_18-removebg_label.png\n",
      "All images processed\n"
     ]
    }
   ],
   "source": [
    "\n",
    "def convertImages(input_directory , output_directory,label_value='0'):\n",
    "    # input_directory = \"./2_removedbg/\"\n",
    "    # output_directory = \"./3_label_pictures/\"\n",
    "    # input_directory = \"./milestone3\\script\\images\"\n",
    "    # output_directory = \"./milestone3\\script\\labels\"\n",
    "\n",
    "    \n",
    "    \n",
    "    # create folder if it doesn't exist already\n",
    "    if not os.path.exists(output_directory):\n",
    "        os.makedirs(output_directory)\n",
    "\n",
    "        \n",
    "        \n",
    "    for filename in os.listdir(input_directory): #go through each of the images in the folder\n",
    "        if filename.endswith(\".png\"):\n",
    "            img_path = os.path.join(input_directory, filename)\n",
    "            img = Image.open(img_path)\n",
    "            img = img.convert(\"RGBA\")\n",
    "\n",
    "            datas = img.getdata()\n",
    "            width, height = img.size\n",
    "\n",
    "            newImage = Image.new(\"L\", (width, height))\n",
    "            # newImage.show()\n",
    "            \n",
    "            # newImage = Image.new(mode=\"RGB\", (width, height))\n",
    "            # print(newImage)\n",
    "            # imgplot = plt.imshow(img, cmap=plt.get_cmap('gray'))\n",
    "\n",
    "            for i, item in enumerate(datas):\n",
    "                if item[3] == 0:  # Check if alpha (transparency) value is 0\n",
    "                    newImage.putpixel((i % width, i // width), 0) # put as black\n",
    "                else:\n",
    "                    \n",
    "                    newImage.putpixel((i % width, i // width), label_value)\n",
    "                    # if (i <= 17):\n",
    "                    #     labelValue = 1\n",
    "                    # elif (i > 17 & i <= 32):\n",
    "                    #     labelValue = 5\n",
    "                    # elif (i > 32 & i <= 64):\n",
    "                    #     labelValue = 2\n",
    "                    # elif (i > 65 & i <= 115):\n",
    "                    #     labelValue = 4\n",
    "                    # elif (i > 115):\n",
    "                    #     labelValue = 3\n",
    "                    pass\n",
    "                    \n",
    "                    \n",
    "\n",
    "            # print(newImage.min())\n",
    "            # print(newImage.max())\n",
    "            # plt.show()\n",
    "            base_filename, extension = os.path.splitext(filename)\n",
    "            save_filename = os.path.join(output_directory, base_filename + \"_label\" + extension)\n",
    "            newImage.save(save_filename, \"PNG\")\n",
    "            print(\"Saved\", save_filename)\n",
    "\n",
    "    print(\"All images processed\")"
   ]
  },
  {
   "cell_type": "code",
   "execution_count": null,
   "id": "91aaae9f-2b2b-4814-b0bf-654ab292f555",
   "metadata": {},
   "outputs": [],
   "source": [
    "convertImages(input_directory = \"./2_removedbg/\", output_directory = \"./3_label_pictures/\",label_value = 5 )"
   ]
  },
  {
   "cell_type": "code",
   "execution_count": null,
   "id": "7354ddd2-8a34-44d1-a38b-96d3da58008a",
   "metadata": {},
   "outputs": [],
   "source": [
    "convertImages(input_directory = \"./2_removedbg/\", output_directory = \"./3_label_pictures/\",label_value = 5 )"
   ]
  },
  {
   "cell_type": "code",
   "execution_count": null,
   "id": "5bfbef88-9ac6-408f-a901-4780ffb79361",
   "metadata": {},
   "outputs": [],
   "source": [
    "convertImages(input_directory = \"./2_removedbg/\", output_directory = \"./3_label_pictures/\",label_value = 5 )"
   ]
  }
 ],
 "metadata": {
  "kernelspec": {
   "display_name": "Python 3 (ipykernel)",
   "language": "python",
   "name": "python3"
  },
  "language_info": {
   "codemirror_mode": {
    "name": "ipython",
    "version": 3
   },
   "file_extension": ".py",
   "mimetype": "text/x-python",
   "name": "python",
   "nbconvert_exporter": "python",
   "pygments_lexer": "ipython3",
   "version": "3.9.16"
  }
 },
 "nbformat": 4,
 "nbformat_minor": 5
}
