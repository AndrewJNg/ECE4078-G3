{
 "cells": [
  {
   "cell_type": "code",
   "execution_count": 1,
   "id": "c78d8055-a6b3-441d-a79a-4c23e89e1d1a",
   "metadata": {},
   "outputs": [
    {
     "ename": "NameError",
     "evalue": "name 'filename_bg' is not defined",
     "output_type": "error",
     "traceback": [
      "\u001b[1;31m---------------------------------------------------------------------------\u001b[0m",
      "\u001b[1;31mNameError\u001b[0m                                 Traceback (most recent call last)",
      "Cell \u001b[1;32mIn[1], line 18\u001b[0m\n\u001b[0;32m     16\u001b[0m rd_bg \u001b[38;5;241m=\u001b[39m randint(\u001b[38;5;241m1\u001b[39m,n_bg)\n\u001b[0;32m     17\u001b[0m input_background \u001b[38;5;241m=\u001b[39m \u001b[38;5;124m\"\u001b[39m\u001b[38;5;124m./4_arena_pics/\u001b[39m\u001b[38;5;124m\"\u001b[39m\n\u001b[1;32m---> 18\u001b[0m bg \u001b[38;5;241m=\u001b[39m Image\u001b[38;5;241m.\u001b[39mopen(os\u001b[38;5;241m.\u001b[39mpath\u001b[38;5;241m.\u001b[39mjoin(input_background, \u001b[43mfilename_bg\u001b[49m))\n\u001b[0;32m     19\u001b[0m bg_width, bg_height \u001b[38;5;241m=\u001b[39m bg\u001b[38;5;241m.\u001b[39msize\n\u001b[0;32m     21\u001b[0m \u001b[38;5;66;03m#n = number pole per image, can be randomized if needed\u001b[39;00m\n",
      "\u001b[1;31mNameError\u001b[0m: name 'filename_bg' is not defined"
     ]
    }
   ],
   "source": [
    "#pole and background should be named like pole1.png/background2.jpg\n",
    "#change number of pole and background value before genrating and amount to generate\n",
    "\n",
    "import os\n",
    "from PIL import Image\n",
    "from random import random, randint\n",
    "\n",
    "#change it to number of background and pole in each folder\n",
    "n_pole = 2 \n",
    "n_bg = 2\n",
    "\n",
    "#loop to generate image, change value to amount required to generate\n",
    "for n_test in range(10):\n",
    "    cwd = os.getcwd()\n",
    "    #open a random background and get background size\n",
    "    rd_bg = randint(1,n_bg)\n",
    "    input_background = \"./4_arena_pics/\"\n",
    "    bg = Image.open(os.path.join(input_background, filename_bg))\n",
    "    bg_width, bg_height = bg.size\n",
    "\n",
    "    #n = number pole per image, can be randomized if needed\n",
    "    n = 4\n",
    "    partition = bg_width / n\n",
    "\n",
    "    for i in range(n): \n",
    "        #open pole image maybe and get size\n",
    "        rd_pole = randint(1,n_pole)\n",
    "        input_fruit = \"./2_removedbg/sample_all/\"\n",
    "        pole = Image.open( os.path.join(input_fruit, filename_fruit)).convert(\"RGBA\")\n",
    "        img_width, img_height = pole.size\n",
    "\n",
    "        #randomly resize pole \n",
    "        rd_scale = (1+random())/n\n",
    "        rd_width, rd_height = (int(img_width*rd_scale),int(img_height*rd_scale))\n",
    "        rd_size= pole.resize((rd_width, rd_height))\n",
    "\n",
    "        #random coordinate to paste pole \n",
    "        rd_coords = (randint(partition*i, (partition*(i+1)) - rd_width),randint(0, bg_height - rd_height))\n",
    "        coordinate = ((rd_coords[0]+(rd_width/2))/bg_width, (rd_coords[1]+(rd_height/2))/bg_height)\n",
    "        size = (rd_width/bg_width, rd_height/bg_height)\n",
    "\n",
    "        #save coords to txt file\n",
    "        txt = \"1 \"+ str(coordinate[0]) + \" \" + str( coordinate[1]) + \" \" + str(size[0]) + \" \" + str(size[1])\n",
    "        with open('coord.txt','a') as f: \n",
    "            f.write( txt + '\\n')\n",
    "\n",
    "        #paste pole to background\n",
    "        bg.paste(rd_size, (rd_coords), mask = rd_size)\n",
    "\n",
    "    #store background to folder\n",
    "    res_img = cwd + \"/result/test\" + str(n_test+1) + \".jpg\"\n",
    "    bg.save(res_img)"
   ]
  }
 ],
 "metadata": {
  "kernelspec": {
   "display_name": "Python 3 (ipykernel)",
   "language": "python",
   "name": "python3"
  },
  "language_info": {
   "codemirror_mode": {
    "name": "ipython",
    "version": 3
   },
   "file_extension": ".py",
   "mimetype": "text/x-python",
   "name": "python",
   "nbconvert_exporter": "python",
   "pygments_lexer": "ipython3",
   "version": "3.9.16"
  }
 },
 "nbformat": 4,
 "nbformat_minor": 5
}
