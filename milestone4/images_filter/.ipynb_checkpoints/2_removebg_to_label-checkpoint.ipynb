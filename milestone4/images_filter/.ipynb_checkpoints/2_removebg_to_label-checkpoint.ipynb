{
 "cells": [
  {
   "cell_type": "code",
   "execution_count": 1,
   "id": "2c0233b9-8bf6-4e75-a503-e735b4f4ade9",
   "metadata": {
    "tags": []
   },
   "outputs": [],
   "source": [
    "import os\n",
    "# from rembg import remove\n",
    "from PIL import Image\n",
    "\n",
    "import numpy as np\n",
    "import matplotlib.pyplot as plt\n",
    "import matplotlib.image as mpimg\n",
    "# import time for timekeeping\n",
    "import time\n",
    "\n",
    "  "
   ]
  },
  {
   "cell_type": "code",
   "execution_count": 2,
   "id": "07855803-d8f7-4918-9584-f00d7310afd3",
   "metadata": {},
   "outputs": [],
   "source": [
    "\n",
    "def convertImages(input_directory , output_directory,label_value='0'):\n",
    "    # input_directory = \"./2_removedbg/\"\n",
    "    # output_directory = \"./3_label_pictures/\"\n",
    "    # input_directory = \"./milestone3\\script\\images\"\n",
    "    # output_directory = \"./milestone3\\script\\labels\"\n",
    "\n",
    "    \n",
    "    \n",
    "    # create folder if it doesn't exist already\n",
    "    if not os.path.exists(output_directory):\n",
    "        os.makedirs(output_directory)\n",
    "\n",
    "        \n",
    "        \n",
    "    for filename in os.listdir(input_directory): #go through each of the images in the folder\n",
    "        if filename.endswith(\".png\"):\n",
    "            img_path = os.path.join(input_directory, filename)\n",
    "            img = Image.open(img_path)\n",
    "            # img = remove(img)\n",
    "            img = img.convert(\"RGBA\")\n",
    "\n",
    "            datas = img.getdata()\n",
    "            width, height = img.size\n",
    "\n",
    "            # newImage = Image.new(\"L\", (width, height))\n",
    "            newImage = Image.new(\"LA\", (width, height))\n",
    "            # newImage.show()\n",
    "            \n",
    "            # newImage = Image.new(mode=\"RGB\", (width, height))\n",
    "            # print(newImage)\n",
    "            # imgplot = plt.imshow(img, cmap=plt.get_cmap('gray'))\n",
    "\n",
    "            for i, item in enumerate(datas):\n",
    "                if item[3] == 0:  # Check if alpha (transparency) value is 0\n",
    "                    # newImage.putpixel((i % width, i // width), (0)) # put as black and transparent\n",
    "                    newImage.putpixel((i % width, i // width), (0,0)) # put as black and transparent\n",
    "                elif item == [0,0,0]:\n",
    "                    newImage.putpixel((i % width, i // width), (0,0)) # put as black and transparent\n",
    "                    \n",
    "                else:\n",
    "                    # newImage.putpixel((i % width, i // width), (label_value))\n",
    "                    newImage.putpixel((i % width, i // width), (label_value,255))\n",
    "\n",
    "            # print(newImage.min())\n",
    "            # print(newImage.max())\n",
    "            # plt.show()\n",
    "            base_filename, extension = os.path.splitext(filename)\n",
    "            # print(extension)\n",
    "            save_filename = os.path.join(output_directory, base_filename + \"_label\" + extension)\n",
    "            newImage.save(save_filename, \"PNG\")\n",
    "            print(\"Saved\", save_filename)\n",
    "\n",
    "    print(\"All images processed\")"
   ]
  },
  {
   "cell_type": "code",
   "execution_count": 3,
   "id": "91aaae9f-2b2b-4814-b0bf-654ab292f555",
   "metadata": {},
   "outputs": [
    {
     "ename": "TypeError",
     "evalue": "color must be int or single-element tuple",
     "output_type": "error",
     "traceback": [
      "\u001b[1;31m---------------------------------------------------------------------------\u001b[0m",
      "\u001b[1;31mTypeError\u001b[0m                                 Traceback (most recent call last)",
      "Cell \u001b[1;32mIn[3], line 1\u001b[0m\n\u001b[1;32m----> 1\u001b[0m \u001b[43mconvertImages\u001b[49m\u001b[43m(\u001b[49m\u001b[43minput_directory\u001b[49m\u001b[43m \u001b[49m\u001b[38;5;241;43m=\u001b[39;49m\u001b[43m \u001b[49m\u001b[38;5;124;43m\"\u001b[39;49m\u001b[38;5;124;43m./2_removedbg/apple/\u001b[39;49m\u001b[38;5;124;43m\"\u001b[39;49m\u001b[43m,\u001b[49m\u001b[43m \u001b[49m\u001b[43moutput_directory\u001b[49m\u001b[43m \u001b[49m\u001b[38;5;241;43m=\u001b[39;49m\u001b[43m \u001b[49m\u001b[38;5;124;43m\"\u001b[39;49m\u001b[38;5;124;43m./3_label_pictures/apple/\u001b[39;49m\u001b[38;5;124;43m\"\u001b[39;49m\u001b[43m,\u001b[49m\u001b[43mlabel_value\u001b[49m\u001b[43m \u001b[49m\u001b[38;5;241;43m=\u001b[39;49m\u001b[43m \u001b[49m\u001b[38;5;241;43m1\u001b[39;49m\u001b[43m \u001b[49m\u001b[43m)\u001b[49m\n",
      "Cell \u001b[1;32mIn[2], line 36\u001b[0m, in \u001b[0;36mconvertImages\u001b[1;34m(input_directory, output_directory, label_value)\u001b[0m\n\u001b[0;32m     33\u001b[0m \u001b[38;5;28;01mfor\u001b[39;00m i, item \u001b[38;5;129;01min\u001b[39;00m \u001b[38;5;28menumerate\u001b[39m(datas):\n\u001b[0;32m     34\u001b[0m     \u001b[38;5;28;01mif\u001b[39;00m item[\u001b[38;5;241m3\u001b[39m] \u001b[38;5;241m==\u001b[39m \u001b[38;5;241m0\u001b[39m:  \u001b[38;5;66;03m# Check if alpha (transparency) value is 0\u001b[39;00m\n\u001b[0;32m     35\u001b[0m         \u001b[38;5;66;03m# newImage.putpixel((i % width, i // width), (0)) # put as black and transparent\u001b[39;00m\n\u001b[1;32m---> 36\u001b[0m         \u001b[43mnewImage\u001b[49m\u001b[38;5;241;43m.\u001b[39;49m\u001b[43mputpixel\u001b[49m\u001b[43m(\u001b[49m\u001b[43m(\u001b[49m\u001b[43mi\u001b[49m\u001b[43m \u001b[49m\u001b[38;5;241;43m%\u001b[39;49m\u001b[43m \u001b[49m\u001b[43mwidth\u001b[49m\u001b[43m,\u001b[49m\u001b[43m \u001b[49m\u001b[43mi\u001b[49m\u001b[43m \u001b[49m\u001b[38;5;241;43m/\u001b[39;49m\u001b[38;5;241;43m/\u001b[39;49m\u001b[43m \u001b[49m\u001b[43mwidth\u001b[49m\u001b[43m)\u001b[49m\u001b[43m,\u001b[49m\u001b[43m \u001b[49m\u001b[43m(\u001b[49m\u001b[38;5;241;43m0\u001b[39;49m\u001b[43m,\u001b[49m\u001b[38;5;241;43m0\u001b[39;49m\u001b[43m)\u001b[49m\u001b[43m)\u001b[49m \u001b[38;5;66;03m# put as black and transparent\u001b[39;00m\n\u001b[0;32m     37\u001b[0m     \u001b[38;5;28;01melif\u001b[39;00m item \u001b[38;5;241m==\u001b[39m [\u001b[38;5;241m0\u001b[39m,\u001b[38;5;241m0\u001b[39m,\u001b[38;5;241m0\u001b[39m]:\n\u001b[0;32m     38\u001b[0m         newImage\u001b[38;5;241m.\u001b[39mputpixel((i \u001b[38;5;241m%\u001b[39m width, i \u001b[38;5;241m/\u001b[39m\u001b[38;5;241m/\u001b[39m width), (\u001b[38;5;241m0\u001b[39m,\u001b[38;5;241m0\u001b[39m)) \u001b[38;5;66;03m# put as black and transparent\u001b[39;00m\n",
      "File \u001b[1;32mD:\\Monash_Apps\\Anaconda\\lib\\site-packages\\PIL\\Image.py:1985\u001b[0m, in \u001b[0;36mImage.putpixel\u001b[1;34m(self, xy, value)\u001b[0m\n\u001b[0;32m   1983\u001b[0m     \u001b[38;5;28;01mif\u001b[39;00m \u001b[38;5;28mself\u001b[39m\u001b[38;5;241m.\u001b[39mmode \u001b[38;5;241m==\u001b[39m \u001b[38;5;124m\"\u001b[39m\u001b[38;5;124mPA\u001b[39m\u001b[38;5;124m\"\u001b[39m:\n\u001b[0;32m   1984\u001b[0m         value \u001b[38;5;241m=\u001b[39m (value, alpha)\n\u001b[1;32m-> 1985\u001b[0m \u001b[38;5;28;01mreturn\u001b[39;00m \u001b[38;5;28;43mself\u001b[39;49m\u001b[38;5;241;43m.\u001b[39;49m\u001b[43mim\u001b[49m\u001b[38;5;241;43m.\u001b[39;49m\u001b[43mputpixel\u001b[49m\u001b[43m(\u001b[49m\u001b[43mxy\u001b[49m\u001b[43m,\u001b[49m\u001b[43m \u001b[49m\u001b[43mvalue\u001b[49m\u001b[43m)\u001b[49m\n",
      "\u001b[1;31mTypeError\u001b[0m: color must be int or single-element tuple"
     ]
    }
   ],
   "source": [
    "\n",
    "convertImages(input_directory = \"./2_removedbg/apple/\", output_directory = \"./3_label_pictures/apple/\",label_value = 1 )"
   ]
  },
  {
   "cell_type": "code",
   "execution_count": null,
   "id": "7c7ca379-779f-4d50-a3d6-f277cc2328de",
   "metadata": {},
   "outputs": [],
   "source": [
    "\n",
    "convertImages(input_directory = \"./2_removedbg/greenapple/\", output_directory = \"./3_label_pictures/greenapple/\",label_value = 2 )"
   ]
  },
  {
   "cell_type": "code",
   "execution_count": null,
   "id": "8a4576a5-a069-4588-b126-178e35a8b037",
   "metadata": {},
   "outputs": [],
   "source": [
    "\n",
    "convertImages(input_directory = \"./2_removedbg/orange/\", output_directory = \"./3_label_pictures/orange/\",label_value = 3 )"
   ]
  },
  {
   "cell_type": "code",
   "execution_count": null,
   "id": "af3db14d-c503-4bf0-9ab2-5768f8c60ec2",
   "metadata": {},
   "outputs": [],
   "source": [
    "# \n",
    "convertImages(input_directory = \"./2_removedbg/mango/\", output_directory = \"./3_label_pictures/mango/\",label_value = 4 )"
   ]
  },
  {
   "cell_type": "code",
   "execution_count": null,
   "id": "1ec1f149-e802-4d9e-a8f7-2058056cc7bb",
   "metadata": {},
   "outputs": [],
   "source": [
    "\n",
    "convertImages(input_directory = \"./2_removedbg/capsicium/\" , output_directory = \"./3_label_pictures/capsicium/\",label_value = 5 )"
   ]
  },
  {
   "cell_type": "code",
   "execution_count": null,
   "id": "ca2c768b-847c-4d25-aa90-d783d56b64c9",
   "metadata": {},
   "outputs": [],
   "source": []
  }
 ],
 "metadata": {
  "kernelspec": {
   "display_name": "Python 3 (ipykernel)",
   "language": "python",
   "name": "python3"
  },
  "language_info": {
   "codemirror_mode": {
    "name": "ipython",
    "version": 3
   },
   "file_extension": ".py",
   "mimetype": "text/x-python",
   "name": "python",
   "nbconvert_exporter": "python",
   "pygments_lexer": "ipython3",
   "version": "3.9.16"
  }
 },
 "nbformat": 4,
 "nbformat_minor": 5
}
